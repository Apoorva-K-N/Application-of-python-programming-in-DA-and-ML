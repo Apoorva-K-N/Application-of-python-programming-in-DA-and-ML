{
  "nbformat": 4,
  "nbformat_minor": 0,
  "metadata": {
    "colab": {
      "name": "Day 2 sesson 1 Exercise programs.ipynb",
      "provenance": [],
      "include_colab_link": true
    },
    "kernelspec": {
      "name": "python3",
      "display_name": "Python 3"
    }
  },
  "cells": [
    {
      "cell_type": "markdown",
      "metadata": {
        "id": "view-in-github",
        "colab_type": "text"
      },
      "source": [
        "<a href=\"https://colab.research.google.com/github/Apoorva-K-N/Application-of-python-programming-in-DA-and-ML/blob/master/Day_2_sesson_1_Exercise_programs.ipynb\" target=\"_parent\"><img src=\"https://colab.research.google.com/assets/colab-badge.svg\" alt=\"Open In Colab\"/></a>"
      ]
    },
    {
      "cell_type": "markdown",
      "metadata": {
        "id": "4e1l3gG_90Sq",
        "colab_type": "text"
      },
      "source": [
        "1.print multiples of 3 upto 200 using a list"
      ]
    },
    {
      "cell_type": "code",
      "metadata": {
        "id": "5E1X93K193ga",
        "colab_type": "code",
        "outputId": "fb12f915-3370-46ed-8a51-8bc4bc559335",
        "colab": {
          "base_uri": "https://localhost:8080/",
          "height": 55
        }
      },
      "source": [
        "a=[]\n",
        "for i in range(0,200):\n",
        "  if(i%3==0):\n",
        "    a.append(i)\n",
        "print(a)"
      ],
      "execution_count": 0,
      "outputs": [
        {
          "output_type": "stream",
          "text": [
            "[0, 3, 6, 9, 12, 15, 18, 21, 24, 27, 30, 33, 36, 39, 42, 45, 48, 51, 54, 57, 60, 63, 66, 69, 72, 75, 78, 81, 84, 87, 90, 93, 96, 99, 102, 105, 108, 111, 114, 117, 120, 123, 126, 129, 132, 135, 138, 141, 144, 147, 150, 153, 156, 159, 162, 165, 168, 171, 174, 177, 180, 183, 186, 189, 192, 195, 198]\n"
          ],
          "name": "stdout"
        }
      ]
    },
    {
      "cell_type": "markdown",
      "metadata": {
        "id": "gC11jm_b94od",
        "colab_type": "text"
      },
      "source": [
        "2.print the nos only divisable by 5 and 7 between 1000 and 2000 using a list( both inclusive)"
      ]
    },
    {
      "cell_type": "code",
      "metadata": {
        "id": "JHDzeU-Q98FM",
        "colab_type": "code",
        "outputId": "8637cc3c-8f18-4167-bea0-f01b4f2a0e7e",
        "colab": {
          "base_uri": "https://localhost:8080/",
          "height": 55
        }
      },
      "source": [
        "nl=[]\n",
        "for x in range(1000, 2000):\n",
        "    if (x%7==0) and (x%5==0):\n",
        "        nl.append(x)\n",
        "print (nl)"
      ],
      "execution_count": 0,
      "outputs": [
        {
          "output_type": "stream",
          "text": [
            "[1015, 1050, 1085, 1120, 1155, 1190, 1225, 1260, 1295, 1330, 1365, 1400, 1435, 1470, 1505, 1540, 1575, 1610, 1645, 1680, 1715, 1750, 1785, 1820, 1855, 1890, 1925, 1960, 1995]\n"
          ],
          "name": "stdout"
        }
      ]
    },
    {
      "cell_type": "markdown",
      "metadata": {
        "id": "fdI_eVAh-1Ui",
        "colab_type": "text"
      },
      "source": [
        "3.Add the n number of names in a list and print them alphabetically and reverse alphabetically."
      ]
    },
    {
      "cell_type": "code",
      "metadata": {
        "id": "jFIlyn-899yq",
        "colab_type": "code",
        "outputId": "4d801f47-26bf-49cd-e63e-67fab2582d76",
        "colab": {
          "base_uri": "https://localhost:8080/",
          "height": 121
        }
      },
      "source": [
        "l = []\n",
        "b=[]\n",
        "n =int(input(\"Enter the size\"))\n",
        "for i in range(n):\n",
        "  a = str(input())\n",
        "  l.append(a)\n",
        "b = sorted(l)\n",
        "print(sorted(l))\n",
        "print(b[::-1])"
      ],
      "execution_count": 1,
      "outputs": [
        {
          "output_type": "stream",
          "text": [
            "Enter the size3\n",
            "apoorva\n",
            "bhramari\n",
            "pavithra\n",
            "['apoorva', 'bhramari', 'pavithra']\n",
            "['pavithra', 'bhramari', 'apoorva']\n"
          ],
          "name": "stdout"
        }
      ]
    },
    {
      "cell_type": "markdown",
      "metadata": {
        "id": "w6TPdCfvFWww",
        "colab_type": "text"
      },
      "source": [
        "4.Print  perfect squares and divisible by 5 between 500 and 1000( (both inclusive) using list"
      ]
    },
    {
      "cell_type": "code",
      "metadata": {
        "id": "kuCfEcu_FXZh",
        "colab_type": "code",
        "outputId": "baeb6eb5-65c5-45f2-bff7-91cd404d36b4",
        "colab": {
          "base_uri": "https://localhost:8080/",
          "height": 35
        }
      },
      "source": [
        "a=[]\n",
        "def divsqr(l, r): \n",
        "    for i in range(l, r + 1):  \n",
        "        if (i**(.5) == int(i**(.5)) and (i%5)==0): \n",
        "          a.append(i)\n",
        "    print(a) \n",
        "  \n",
        "\n",
        "l = 500\n",
        "r = 1000\n",
        "  \n",
        "divsqr(l, r)"
      ],
      "execution_count": 0,
      "outputs": [
        {
          "output_type": "stream",
          "text": [
            "[625, 900]\n"
          ],
          "name": "stdout"
        }
      ]
    },
    {
      "cell_type": "markdown",
      "metadata": {
        "id": "jXb5dz5jGytS",
        "colab_type": "text"
      },
      "source": [
        ""
      ]
    },
    {
      "cell_type": "markdown",
      "metadata": {
        "id": "aZty5GxKGzov",
        "colab_type": "text"
      },
      "source": [
        "## **Tuples Exercise**\n"
      ]
    },
    {
      "cell_type": "markdown",
      "metadata": {
        "id": "tDu93wotG4rD",
        "colab_type": "text"
      },
      "source": [
        "1.Get  a string and store word by word as elements in a tuple and find the largest word in the  tuple and print it"
      ]
    },
    {
      "cell_type": "code",
      "metadata": {
        "id": "YdknSzFfFqSv",
        "colab_type": "code",
        "outputId": "107720f2-64a1-4877-ae2d-30b937fdec07",
        "colab": {
          "base_uri": "https://localhost:8080/",
          "height": 121
        }
      },
      "source": [
        "a=[]\n",
        "n= int(input(\"Enter the number of elements in list:\"))\n",
        "for x in range(0,n):\n",
        "    element=input(\"Enter element\" + str(x+1) + \":\")\n",
        "    a.append(element)\n",
        "max1=len(a[0])\n",
        "temp=a[0]\n",
        "for i in a:\n",
        "    if(len(i)>max1):\n",
        "       max1=len(i)\n",
        "       temp=i\n",
        "print(\"The word with the longest length is:\")\n",
        "print(temp)"
      ],
      "execution_count": 3,
      "outputs": [
        {
          "output_type": "stream",
          "text": [
            "Enter the number of elements in list:3\n",
            "Enter element1:Apoorva\n",
            "Enter element2:pavithra\n",
            "Enter element3:rachana\n",
            "The word with the longest length is:\n",
            "pavithra\n"
          ],
          "name": "stdout"
        }
      ]
    },
    {
      "cell_type": "markdown",
      "metadata": {
        "id": "vKeH1l-hHPHY",
        "colab_type": "text"
      },
      "source": [
        "2.Get  a string and store word by word as elements in a tuple and find the largest word in the  tuple and print it"
      ]
    },
    {
      "cell_type": "code",
      "metadata": {
        "id": "sMsgG3guG5qe",
        "colab_type": "code",
        "outputId": "d62b2f7b-ea8f-4ea4-b1f7-eb5b513c81f6",
        "colab": {
          "base_uri": "https://localhost:8080/",
          "height": 121
        }
      },
      "source": [
        "l = []\n",
        "l1 = []\n",
        "n =int(input(\"Enter the number of students\"))\n",
        "for i in range(n):\n",
        "  l.append(int(input('Enter roll number')))\n",
        "  l1.append(int(input('Enter marks')))\n",
        "a =(l,l1[::-1])\n",
        "print(a)\n"
      ],
      "execution_count": 0,
      "outputs": [
        {
          "output_type": "stream",
          "text": [
            "Enter the number of students2\n",
            "Enter roll number1\n",
            "Enter marks25\n",
            "Enter roll number2\n",
            "Enter marks24\n",
            "([1, 2], [24, 25])\n"
          ],
          "name": "stdout"
        }
      ]
    },
    {
      "cell_type": "markdown",
      "metadata": {
        "id": "Kb11ADJ6eHJt",
        "colab_type": "text"
      },
      "source": [
        "3.Get name and salary (name, salary) as list of tuples for n number of employees through keyboard and print them in name alphabetical order with salary"
      ]
    },
    {
      "cell_type": "code",
      "metadata": {
        "id": "R417qvN0eAuJ",
        "colab_type": "code",
        "outputId": "7cf2df39-6375-40de-c815-7c3ee812e133",
        "colab": {
          "base_uri": "https://localhost:8080/",
          "height": 156
        }
      },
      "source": [
        "l = []\n",
        "l1 = []\n",
        "n =int(input(\"Enter the number of emp\"))\n",
        "for i in range(n):\n",
        "  l.append(str(input('Enter name')))\n",
        "  l1.append(int(input('Enter salary')))\n",
        "  a =(sorted(l),l1)\n",
        "print(a)"
      ],
      "execution_count": 4,
      "outputs": [
        {
          "output_type": "stream",
          "text": [
            "Enter the number of emp3\n",
            "Enter namerachana\n",
            "Enter salary20000\n",
            "Enter namebhavana\n",
            "Enter salary23000\n",
            "Enter namepavitra\n",
            "Enter salary32000\n",
            "(['bhavana', 'pavitra', 'rachana'], [20000, 23000, 32000])\n"
          ],
          "name": "stdout"
        }
      ]
    },
    {
      "cell_type": "markdown",
      "metadata": {
        "id": "qAfq9grbeUBw",
        "colab_type": "text"
      },
      "source": [
        ""
      ]
    },
    {
      "cell_type": "code",
      "metadata": {
        "id": "1ITk7fqBeMeb",
        "colab_type": "code",
        "colab": {}
      },
      "source": [
        ""
      ],
      "execution_count": 0,
      "outputs": []
    }
  ]
}