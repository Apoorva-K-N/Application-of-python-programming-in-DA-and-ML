{
  "nbformat": 4,
  "nbformat_minor": 0,
  "metadata": {
    "colab": {
      "name": "Day 1 sesson 1 Exercises.ipynb",
      "provenance": [],
      "authorship_tag": "ABX9TyMjMpmNcnSXfgELqoJMbH8z",
      "include_colab_link": true
    },
    "kernelspec": {
      "name": "python3",
      "display_name": "Python 3"
    }
  },
  "cells": [
    {
      "cell_type": "markdown",
      "metadata": {
        "id": "view-in-github",
        "colab_type": "text"
      },
      "source": [
        "<a href=\"https://colab.research.google.com/github/Apoorva-K-N/Application-of-python-programming-in-DA-and-ML/blob/master/Day_1_sesson_1_Exercises.ipynb\" target=\"_parent\"><img src=\"https://colab.research.google.com/assets/colab-badge.svg\" alt=\"Open In Colab\"/></a>"
      ]
    },
    {
      "cell_type": "markdown",
      "metadata": {
        "id": "Pjs9CP-7pgUA",
        "colab_type": "text"
      },
      "source": [
        "compound interest\n"
      ]
    },
    {
      "cell_type": "code",
      "metadata": {
        "id": "6_2tTllCoXa6",
        "colab_type": "code",
        "outputId": "d95960c6-087b-4824-b009-631364b69484",
        "colab": {
          "base_uri": "https://localhost:8080/",
          "height": 87
        }
      },
      "source": [
        "\n",
        "p = float(input(\"Enter the principal amount: \"))\n",
        "r = float(input(\"Enter the interest rate: \"))\n",
        "t = float(input(\"Enter the time in years: \"))\n",
        "\n",
        "amount =p*(pow((1 + r/ 100),t))\n",
        "interest = amount - p\n",
        "print(\"Compound interest is %.2f\" % interest)"
      ],
      "execution_count": 0,
      "outputs": [
        {
          "output_type": "stream",
          "text": [
            "Enter the principal amount: 1000\n",
            "Enter the interest rate: 4\n",
            "Enter the time in years: 2\n",
            "Compound interest is 81.60\n"
          ],
          "name": "stdout"
        }
      ]
    },
    {
      "cell_type": "markdown",
      "metadata": {
        "id": "hN6hfTWgr1oy",
        "colab_type": "text"
      },
      "source": [
        "2.\tConvert centegrade to farenheit  ( f= 9/5*c+32)\n"
      ]
    },
    {
      "cell_type": "code",
      "metadata": {
        "id": "Et2VB2KcqEFp",
        "colab_type": "code",
        "outputId": "a1c88bab-2356-49d5-f80b-204560775757",
        "colab": {
          "base_uri": "https://localhost:8080/",
          "height": 52
        }
      },
      "source": [
        "c=float(input(\"Enter the centergrade\"))\n",
        "\n",
        "f= (c * 9/5 + 32)\n",
        "print(\"{0} in Farenheit is={1}\".format(c,f))"
      ],
      "execution_count": 0,
      "outputs": [
        {
          "output_type": "stream",
          "text": [
            "Enter the centergrade100\n",
            "100.0 in Farenheit is=212.0\n"
          ],
          "name": "stdout"
        }
      ]
    },
    {
      "cell_type": "markdown",
      "metadata": {
        "id": "RP1iFJmC2HF1",
        "colab_type": "text"
      },
      "source": [
        "3.\tFind the greater of two nos \n"
      ]
    },
    {
      "cell_type": "code",
      "metadata": {
        "id": "8oY1ZNM0tAZg",
        "colab_type": "code",
        "outputId": "8d6c6750-9fe5-4211-c0ad-e8bc933a283e",
        "colab": {
          "base_uri": "https://localhost:8080/",
          "height": 69
        }
      },
      "source": [
        "a=int(input(\"Enter the first number\"))\n",
        "b=int(input(\"Enter the second number\"))\n",
        "\n",
        "if a>b:\n",
        "  print(\"{0} is graeter than {1}\" .format(a,b))\n",
        "else:\n",
        "  print(\"{0} is graeter than {1}\" .format(b,a))\n"
      ],
      "execution_count": 0,
      "outputs": [
        {
          "output_type": "stream",
          "text": [
            "Enter the first number32\n",
            "Enter the second number54\n",
            "54 is graeter than 32\n"
          ],
          "name": "stdout"
        }
      ]
    },
    {
      "cell_type": "markdown",
      "metadata": {
        "id": "OE34ZGvU4F54",
        "colab_type": "text"
      },
      "source": [
        "4.\tWrite a program for finding surface areas of cylinder and cone (2*PI*r*r*h, 1/3*PI*r*r*h) using function."
      ]
    },
    {
      "cell_type": "code",
      "metadata": {
        "id": "HfZ9JaMC4BG2",
        "colab_type": "code",
        "outputId": "cca4e11a-4cec-4e57-f0e5-4c793148189d",
        "colab": {
          "base_uri": "https://localhost:8080/",
          "height": 121
        }
      },
      "source": [
        "import math\n",
        "h=float(input(\"Enter the height of the cylinder\" ))\n",
        "r=float(input(\"Enter the radius of the cylinder\"))\n",
        "\n",
        "sa1=((2*math.pi*r) * h) + ((math.pi*r**2)*2)\n",
        "print(\"Surface area of cylinder is \",sa1)\n",
        "\n",
        "\n",
        "h1=float(input(\"Enter the height of the cone\" ))\n",
        "r1=float(input(\"Enter the radius of the cone\"))\n",
        "l =math.sqrt(r1 * r1 + h1 * h1)\n",
        "sa2 =math.pi * r1 * (r1 + l)\n",
        "print(\"Surface area of cylinder is \",sa2)"
      ],
      "execution_count": 0,
      "outputs": [
        {
          "output_type": "stream",
          "text": [
            "Enter the height of the cylinder12\n",
            "Enter the radius of the cylinder3\n",
            "Surface area of cylinder is  282.7433388230814\n",
            "Enter the height of the cone12\n",
            "Enter the radius of the cone3\n",
            "Surface area of cylinder is  144.85239897304484\n"
          ],
          "name": "stdout"
        }
      ]
    },
    {
      "cell_type": "markdown",
      "metadata": {
        "id": "UkInxldu8f2D",
        "colab_type": "text"
      },
      "source": [
        "Find the greatest of four nos ( using ‘and’ operator) using funct"
      ]
    },
    {
      "cell_type": "code",
      "metadata": {
        "id": "hHu_j5X-6bKQ",
        "colab_type": "code",
        "colab": {
          "base_uri": "https://localhost:8080/",
          "height": 121
        },
        "outputId": "0dbd330b-2385-4da3-95b1-f2e3f4970478"
      },
      "source": [
        "a=int(input(\"enter 1st num: \"))\n",
        "b=int(input(\"enter 2nd num: \"))\n",
        "c=int(input(\"enter 3rd num: \"))\n",
        "d=int(input(\"enter 4th num: \"))\n",
        "print(\"greater num is : \")\n",
        "if(a>b and a>c and a>d):\n",
        " print(a)\n",
        "elif(b>c and b>d):\n",
        " print(b)\n",
        "elif(c>d):\n",
        " print(c)\n",
        "else:\n",
        " print(d)"
      ],
      "execution_count": 1,
      "outputs": [
        {
          "output_type": "stream",
          "text": [
            "enter 1st num: 12\n",
            "enter 2nd num: 13\n",
            "enter 3rd num: 14\n",
            "enter 4th num: 15\n",
            "greater num is : \n",
            "15\n"
          ],
          "name": "stdout"
        }
      ]
    },
    {
      "cell_type": "markdown",
      "metadata": {
        "id": "pNn2htfOUyHK",
        "colab_type": "text"
      },
      "source": [
        "Write a menu program to perform the operations ( ODDorEven,\n",
        "PrimeUptoN ) using functions for two nos with menu choice"
      ]
    },
    {
      "cell_type": "code",
      "metadata": {
        "id": "aEU2lMLMUhnO",
        "colab_type": "code",
        "colab": {
          "base_uri": "https://localhost:8080/",
          "height": 1000
        },
        "outputId": "2d1ae3f5-7678-4990-e2a9-24e18bc670e9"
      },
      "source": [
        "\n",
        "loop = 1\n",
        "choice = 0\n",
        "\n",
        "def oddoreven(a):\n",
        "  if(a%2==0):\n",
        "    print(\"even\")\n",
        "  else:\n",
        "    print(\"odd\")\n",
        "def fact(num):\n",
        "  factorial=1 \n",
        "  if  num  <  0:\n",
        "    print(\"Sorry, factorial does not exist for negative numbers\") \n",
        "  elif  num  ==  0:\n",
        "    print(\"The factorial of 0 is 1\") \n",
        "  else:\n",
        "    for i in range(1,num + 1): \n",
        "      factorial = factorial*i\n",
        "    print(\"The factorial of\",num,\"is\",factorial) \n",
        "def odd(n):\n",
        "  print(\"odd numbers: \");\n",
        "  for i in range(1,n+1):\n",
        "    if(i%2!=0):\n",
        "      print(i) \n",
        "def  prime(l,h):\n",
        "  print(\"prime numbers: \")\n",
        "  for num in range(l,h + 1): \n",
        "    if  num  >  1:\n",
        "      for i in range(2,num):\n",
        "        if  (num  %  i)  ==  0:\n",
        "          break\n",
        "      else:\n",
        "        print(num)\n",
        "\n",
        "while  loop  ==  1:\n",
        "  print (\"Welcome\")\n",
        "  print (\"your options are:\")\n",
        "  print (\"\")\n",
        "  print(\"1) odd or even\")\n",
        "  print(\"2) factorial\")\n",
        "  print(\"3) odd upto n\")\n",
        "  print(\"4) prime upto n\") \n",
        "  print(\"5) Quit \")\n",
        "  print(\"\") \n",
        "  try:\n",
        "    choice = int(input(\"Choose your option: \")) \n",
        "  except:\n",
        "    print('please enter a valid number for option')\n",
        "    print(\"\")\n",
        "  print(\"\")\n",
        "  if  choice  ==  1:\n",
        "    x  = int(input(\" Enter\tno: \"))\n",
        "    oddoreven(x)\n",
        "  elif  choice  ==  2:\n",
        "    x = int(input(\"Enter\tno: \")) \n",
        "    fact(x)\n",
        "  elif  choice  ==  3:\n",
        "    x = int(input(\"Enter range: \"))\n",
        "    odd(x)\n",
        "  elif  choice  ==  4:\n",
        "    x = int(input(\"Enter lower range: \"))  \n",
        "    y = int(input(\"Enter upper range: \")) \n",
        "    prime(x,y)\n",
        "  elif  choice  ==  5: \n",
        "    loop = 0\n",
        "  else:\n",
        "    print(\"please choice a valid option from 1 to 5\") \n",
        "    choice=0\n",
        "print (\"Thank-you \")"
      ],
      "execution_count": 2,
      "outputs": [
        {
          "output_type": "stream",
          "text": [
            "Welcome\n",
            "your options are:\n",
            "\n",
            "1) odd or even\n",
            "2) factorial\n",
            "3) odd upto n\n",
            "4) prime upto n\n",
            "5) Quit \n",
            "\n",
            "Choose your option: 1\n",
            "\n",
            " Enter\tno: 5\n",
            "odd\n",
            "Welcome\n",
            "your options are:\n",
            "\n",
            "1) odd or even\n",
            "2) factorial\n",
            "3) odd upto n\n",
            "4) prime upto n\n",
            "5) Quit \n",
            "\n",
            "Choose your option: 2\n",
            "\n",
            "Enter\tno: 4\n",
            "The factorial of 4 is 24\n",
            "Welcome\n",
            "your options are:\n",
            "\n",
            "1) odd or even\n",
            "2) factorial\n",
            "3) odd upto n\n",
            "4) prime upto n\n",
            "5) Quit \n",
            "\n",
            "Choose your option: 3\n",
            "\n",
            "Enter range: 4\n",
            "odd numbers: \n",
            "1\n",
            "3\n",
            "Welcome\n",
            "your options are:\n",
            "\n",
            "1) odd or even\n",
            "2) factorial\n",
            "3) odd upto n\n",
            "4) prime upto n\n",
            "5) Quit \n",
            "\n",
            "Choose your option: 4\n",
            "\n",
            "Enter lower range: 6\n",
            "Enter upper range: 20\n",
            "prime numbers: \n",
            "7\n",
            "11\n",
            "13\n",
            "17\n",
            "19\n",
            "Welcome\n",
            "your options are:\n",
            "\n",
            "1) odd or even\n",
            "2) factorial\n",
            "3) odd upto n\n",
            "4) prime upto n\n",
            "5) Quit \n",
            "\n",
            "Choose your option: 5\n",
            "\n",
            "Thank-you \n"
          ],
          "name": "stdout"
        }
      ]
    },
    {
      "cell_type": "markdown",
      "metadata": {
        "id": "bh0NxWB9UxHv",
        "colab_type": "text"
      },
      "source": [
        ""
      ]
    }
  ]
}