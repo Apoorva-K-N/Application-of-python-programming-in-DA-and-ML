{
  "nbformat": 4,
  "nbformat_minor": 0,
  "metadata": {
    "colab": {
      "name": "Day_1_session_2_Exercises.ipynb",
      "provenance": [],
      "authorship_tag": "ABX9TyPL4c3dkF6svZ1mQNgLE71c",
      "include_colab_link": true
    },
    "kernelspec": {
      "name": "python3",
      "display_name": "Python 3"
    }
  },
  "cells": [
    {
      "cell_type": "markdown",
      "metadata": {
        "id": "view-in-github",
        "colab_type": "text"
      },
      "source": [
        "<a href=\"https://colab.research.google.com/github/Apoorva-K-N/Application-of-python-programming-in-DA-and-ML/blob/master/Day_1_session_2_Exercises.ipynb\" target=\"_parent\"><img src=\"https://colab.research.google.com/assets/colab-badge.svg\" alt=\"Open In Colab\"/></a>"
      ]
    },
    {
      "cell_type": "markdown",
      "metadata": {
        "id": "qcfxRDgVjIYE",
        "colab_type": "text"
      },
      "source": [
        "\n",
        "1.Write a program to print the triangle"
      ]
    },
    {
      "cell_type": "code",
      "metadata": {
        "id": "9MgkCShrieAP",
        "colab_type": "code",
        "colab": {
          "base_uri": "https://localhost:8080/",
          "height": 104
        },
        "outputId": "302a1d15-e201-4e44-b74c-d8d4e9b7626f"
      },
      "source": [
        "\n",
        "n = 5\n",
        "for i in range(0,n):\n",
        "  for j in range(i,i+i,1):\n",
        "    print(j,end=\" \")\n",
        "  print()"
      ],
      "execution_count": 1,
      "outputs": [
        {
          "output_type": "stream",
          "text": [
            "\n",
            "1 \n",
            "2 3 \n",
            "3 4 5 \n",
            "4 5 6 7 \n"
          ],
          "name": "stdout"
        }
      ]
    },
    {
      "cell_type": "markdown",
      "metadata": {
        "id": "LMfW8XJojXZv",
        "colab_type": "text"
      },
      "source": [
        "2.star pattern program"
      ]
    },
    {
      "cell_type": "code",
      "metadata": {
        "id": "41_Yzg0ajR5o",
        "colab_type": "code",
        "colab": {
          "base_uri": "https://localhost:8080/",
          "height": 121
        },
        "outputId": "f72ea932-70b2-4026-d6e7-4e34526ec4e3"
      },
      "source": [
        "def pyramid(n):\n",
        "  num =0\n",
        "  for i in range(0,n+1):\n",
        "    for j in range(0,i):\n",
        "      print(\"*\",end=\" \")\n",
        "    print(\"\\r\")\n",
        "n = int(input(\"Enter the number\"))\n",
        "pyramid(n)"
      ],
      "execution_count": 2,
      "outputs": [
        {
          "output_type": "stream",
          "text": [
            "Enter the number4\n",
            "\n",
            "* \n",
            "* * \n",
            "* * * \n",
            "* * * * \n"
          ],
          "name": "stdout"
        }
      ]
    },
    {
      "cell_type": "markdown",
      "metadata": {
        "id": "igdBTfpJjmEI",
        "colab_type": "text"
      },
      "source": [
        "\n",
        "3.number pattern"
      ]
    },
    {
      "cell_type": "code",
      "metadata": {
        "id": "4G1T5ob7jg_H",
        "colab_type": "code",
        "colab": {
          "base_uri": "https://localhost:8080/",
          "height": 104
        },
        "outputId": "bc54d888-b6d5-4ed9-81bc-e708f70dfcae"
      },
      "source": [
        "n= 5\n",
        "for i in range(0,n):\n",
        "  for j in range(n-i,n+1,1):\n",
        "    print(j,end=\" \")\n",
        "  print()"
      ],
      "execution_count": 3,
      "outputs": [
        {
          "output_type": "stream",
          "text": [
            "5 \n",
            "4 5 \n",
            "3 4 5 \n",
            "2 3 4 5 \n",
            "1 2 3 4 5 \n"
          ],
          "name": "stdout"
        }
      ]
    },
    {
      "cell_type": "markdown",
      "metadata": {
        "id": "S8QXdAfBj9c-",
        "colab_type": "text"
      },
      "source": [
        "\n",
        "4.Number pyramid"
      ]
    },
    {
      "cell_type": "code",
      "metadata": {
        "id": "cvVj_gNmj5LH",
        "colab_type": "code",
        "colab": {
          "base_uri": "https://localhost:8080/",
          "height": 121
        },
        "outputId": "c55f03df-61d5-4cdd-ec06-1bd19f547015"
      },
      "source": [
        "\n",
        "n = 5\n",
        "for i in range(0,n+1):\n",
        "  for j in range(n-i,0,-1):\n",
        "    print(j,end=\" \")\n",
        "  print()"
      ],
      "execution_count": 4,
      "outputs": [
        {
          "output_type": "stream",
          "text": [
            "5 4 3 2 1 \n",
            "4 3 2 1 \n",
            "3 2 1 \n",
            "2 1 \n",
            "1 \n",
            "\n"
          ],
          "name": "stdout"
        }
      ]
    },
    {
      "cell_type": "markdown",
      "metadata": {
        "id": "jqbSGZHDkVFs",
        "colab_type": "text"
      },
      "source": [
        "\n",
        "5.Number pyramid"
      ]
    },
    {
      "cell_type": "code",
      "metadata": {
        "id": "wcgf9pTPkRAq",
        "colab_type": "code",
        "colab": {
          "base_uri": "https://localhost:8080/",
          "height": 173
        },
        "outputId": "dfa10fc7-e474-4bec-a9e5-29626b81288c"
      },
      "source": [
        "\n",
        "n = 5\n",
        "for i in range(1,n+1):\n",
        "  for j in range(i,n+1,1):\n",
        "    print(j,end=\" \")\n",
        "  print()\n",
        "for i in range(1,n):\n",
        "  for j in range(n-i,n+1,1):\n",
        "    print(j,end=\" \")\n",
        "  print()"
      ],
      "execution_count": 5,
      "outputs": [
        {
          "output_type": "stream",
          "text": [
            "1 2 3 4 5 \n",
            "2 3 4 5 \n",
            "3 4 5 \n",
            "4 5 \n",
            "5 \n",
            "4 5 \n",
            "3 4 5 \n",
            "2 3 4 5 \n",
            "1 2 3 4 5 \n"
          ],
          "name": "stdout"
        }
      ]
    },
    {
      "cell_type": "markdown",
      "metadata": {
        "id": "W8EViK0vkaOe",
        "colab_type": "text"
      },
      "source": [
        "\n",
        "6.Find the length of a string without using len functions"
      ]
    },
    {
      "cell_type": "code",
      "metadata": {
        "id": "HO8qWVWykYza",
        "colab_type": "code",
        "colab": {
          "base_uri": "https://localhost:8080/",
          "height": 52
        },
        "outputId": "9a5e0da8-edae-4ea5-dda6-fcfd99a27dcb"
      },
      "source": [
        "\n",
        "def length(s):\n",
        "  c = 0\n",
        "  for i in s:\n",
        "    c=c+1\n",
        "  return c\n",
        "s =str(input(\"Enter the string : \"))\n",
        "print(\"The length of string is : \",length(s))"
      ],
      "execution_count": 6,
      "outputs": [
        {
          "output_type": "stream",
          "text": [
            "Enter the string : python\n",
            "The length of string is :  6\n"
          ],
          "name": "stdout"
        }
      ]
    },
    {
      "cell_type": "markdown",
      "metadata": {
        "id": "4Qf6Yd-_knh0",
        "colab_type": "text"
      },
      "source": [
        "\n",
        "7.Find the no of words and characters in a string"
      ]
    },
    {
      "cell_type": "code",
      "metadata": {
        "id": "B9nT1j7dkhsU",
        "colab_type": "code",
        "colab": {
          "base_uri": "https://localhost:8080/",
          "height": 69
        },
        "outputId": "40bad6d3-faa4-4aa8-ccd1-40cb16be1629"
      },
      "source": [
        "\n",
        "def cou(s):\n",
        "  c=0\n",
        "  a = s.split()\n",
        "  v = len(a)\n",
        "  for i in a:\n",
        "    c = c+len(i)\n",
        "  print(\"word count : \",v)\n",
        "  print(\"character count : \",c)\n",
        "s = str(input(\"Enter the string : \"))\n",
        "cou(s)"
      ],
      "execution_count": 7,
      "outputs": [
        {
          "output_type": "stream",
          "text": [
            "Enter the string : python\n",
            "word count :  1\n",
            "character count :  6\n"
          ],
          "name": "stdout"
        }
      ]
    },
    {
      "cell_type": "markdown",
      "metadata": {
        "id": "T82M1Pwuk1dl",
        "colab_type": "text"
      },
      "source": [
        "\n",
        "8.Find the no of occurrences of a word in a string"
      ]
    },
    {
      "cell_type": "code",
      "metadata": {
        "id": "IpByGZackvYD",
        "colab_type": "code",
        "colab": {
          "base_uri": "https://localhost:8080/",
          "height": 69
        },
        "outputId": "523d65ce-638c-44b8-dfc7-e608fa5ebf93"
      },
      "source": [
        "def occur(s):\n",
        "  c =0\n",
        "  a = str(input(\"Enter the word : \"))\n",
        "  w = s.split()\n",
        "  for i in range(0,len(w)):\n",
        "    if(a == w[i]):\n",
        "      c = c+1\n",
        "  return c\n",
        "s = str(input(\"Enter the string : \"))\n",
        "print(\"The number of occurances is : \",occur(s))"
      ],
      "execution_count": 9,
      "outputs": [
        {
          "output_type": "stream",
          "text": [
            "Enter the string : i i i i am new to python\n",
            "Enter the word : i\n",
            "The number of occurances is :  4\n"
          ],
          "name": "stdout"
        }
      ]
    },
    {
      "cell_type": "code",
      "metadata": {
        "id": "Sg1kOrGdk9s1",
        "colab_type": "code",
        "colab": {}
      },
      "source": [
        ""
      ],
      "execution_count": 0,
      "outputs": []
    }
  ]
}